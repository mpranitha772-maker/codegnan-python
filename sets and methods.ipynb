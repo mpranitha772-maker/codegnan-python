{
 "cells": [
  {
   "cell_type": "code",
   "execution_count": 1,
   "id": "9de0cb3c-6ac1-4dc2-bdf8-2e29ab925c02",
   "metadata": {},
   "outputs": [
    {
     "name": "stdout",
     "output_type": "stream",
     "text": [
      "{1, 2, 3, 34, 20.25, (1, 2, 3), 'Codegnan'}\n"
     ]
    }
   ],
   "source": [
    "#example\n",
    "s = {1, 2, 3, 34, 20.25,\"Codegnan\", (1, 2, 3)}\n",
    "print(s)"
   ]
  },
  {
   "cell_type": "code",
   "execution_count": 8,
   "id": "83a45e01-1e20-4e40-856b-f4d0d7e665ac",
   "metadata": {},
   "outputs": [
    {
     "name": "stdout",
     "output_type": "stream",
     "text": [
      "<class 'set'>\n"
     ]
    }
   ],
   "source": [
    "#empty set\n",
    "s = set()\n",
    "print(type(s))"
   ]
  },
  {
   "cell_type": "code",
   "execution_count": 10,
   "id": "2bf43848-fe7f-4140-8422-0f12b8c48d29",
   "metadata": {},
   "outputs": [
    {
     "name": "stdin",
     "output_type": "stream",
     "text": [
      " 1 2 3 20 4 5 30 5 4 1 2 3\n"
     ]
    },
    {
     "name": "stdout",
     "output_type": "stream",
     "text": [
      "{1, 2, 3, 4, 5, 20, 30}\n"
     ]
    }
   ],
   "source": [
    "#set of integers from user\n",
    "s = set(map(int, input().split()))\n",
    "print(s)"
   ]
  },
  {
   "cell_type": "code",
   "execution_count": 19,
   "id": "3531be0d-4738-48bb-8aeb-5492d0cf4cef",
   "metadata": {},
   "outputs": [
    {
     "name": "stdout",
     "output_type": "stream",
     "text": [
      "union {1, 2, 'language', 4, 5, 'java', 'course', 'python'}\n",
      "intersection {1, 'java'}\n",
      "difference {'python', 2}\n",
      "symmetric_difference {'python', 2, 'language', 4, 5, 'course'}\n",
      "subset False\n",
      "superset False\n",
      "disjoint False\n",
      "{1, 2, 'java', 'python'} {1, 'language', 4, 5, 'java', 'course'}\n"
     ]
    }
   ],
   "source": [
    "s1 = {1, 2, 'python', 'java'}\n",
    "s2 = {1, 'java', 4, 5, 'course', 'language'}\n",
    "print('union', s1.union(s2))\n",
    "print('intersection', s1.intersection(s2))\n",
    "print('difference', s1.difference(s2))\n",
    "print('symmetric_difference', s1.symmetric_difference(s2))\n",
    "print('subset', s1.issubset(s2))\n",
    "print('superset', s1.issuperset(s2))\n",
    "print('disjoint', s1.isdisjoint(s2))\n",
    "print(s1, s2)"
   ]
  },
  {
   "cell_type": "code",
   "execution_count": null,
   "id": "9a66dfcb-2ac9-487f-b51f-4f4bde40ecb9",
   "metadata": {},
   "outputs": [],
   "source": [
    "#isunion\n",
    "#intersection\n",
    "#difference\n",
    "#symmetric_difference\n",
    "#issubset\n",
    "#issuperset\n",
    "#isdisjoint"
   ]
  },
  {
   "cell_type": "code",
   "execution_count": 18,
   "id": "6db919f1-b471-47a6-87d5-b24ea77178a0",
   "metadata": {},
   "outputs": [
    {
     "name": "stdout",
     "output_type": "stream",
     "text": [
      "union {1, 2, 3, 4, 5, 6, 10, 19}\n",
      "intersection {3, 4}\n",
      "difference {10, 19, 5}\n",
      "symmetric_difference {1, 2, 5, 19, 6, 10}\n",
      "subset False\n",
      "superset False\n",
      "disjoint False\n",
      "{1, 2, 3, 4, 6} {3, 4, 5, 19, 10}\n"
     ]
    }
   ],
   "source": [
    "s1 = {1, 2, 3, 4, 6}\n",
    "s2 = {3, 4, 10, 19, 5, 3}\n",
    "print('union', s1.union(s2))\n",
    "print('intersection', s1.intersection(s2))\n",
    "print('difference', s2.difference(s1))\n",
    "print('symmetric_difference', s1.symmetric_difference(s2))\n",
    "print('subset', s1.issubset(s2))\n",
    "print('superset', s1.issuperset(s2))\n",
    "print('disjoint', s1.isdisjoint(s2))\n",
    "print(s1, s2)"
   ]
  },
  {
   "cell_type": "code",
   "execution_count": 22,
   "id": "90edef12-bf01-43e0-9d28-f269d52066a1",
   "metadata": {},
   "outputs": [
    {
     "name": "stdout",
     "output_type": "stream",
     "text": [
      "union {1, 2, 3, 4, 5, 6, 10, 19}\n",
      "intersection {3, 4}\n",
      "difference {10, 19, 5}\n",
      "symmetric_difference {1, 2, 5, 19, 6, 10}\n"
     ]
    }
   ],
   "source": [
    "s1 = {1, 2, 3, 4, 6}\n",
    "s2 = {3, 4, 10, 19, 5, 3}\n",
    "print('union', s1|s2)\n",
    "print('intersection', s1&s2)\n",
    "print('difference', s2-s1)\n",
    "print('symmetric_difference', s1^s2)"
   ]
  },
  {
   "cell_type": "code",
   "execution_count": 31,
   "id": "adb6f4b5-79d0-4718-b0b8-81cd10b464d3",
   "metadata": {},
   "outputs": [
    {
     "name": "stdout",
     "output_type": "stream",
     "text": [
      "{16, 1, 2.25, 2, 3, 4, 100, 8}\n",
      "{16, 1, 2.25, 2, 3, 4, 8}\n",
      "{16, 1, 2.25, 3, 4, 8}\n",
      "{1, 2.25, 3, 4, 5, 7, 8, 9, 16}\n"
     ]
    }
   ],
   "source": [
    "#add- it will add elements to the set\n",
    "#update- it will update the elements in the set\n",
    "#remove-it removes the elements in the set\n",
    "#discard-it also removes certain elements from the set\n",
    "s1 = {1, 2, 3, 4, 16, 2.25, 8}\n",
    "s1.add(100), s1.add(1)\n",
    "print(s1)\n",
    "s1.remove(100)\n",
    "print(s1)\n",
    "#s1.remove(100) it raises key error\n",
    "s1.discard(2)\n",
    "print(s1)\n",
    "s1.update([5, 7, 9])\n",
    "print(s1)"
   ]
  },
  {
   "cell_type": "code",
   "execution_count": null,
   "id": "0ea6faee-a5a0-4295-9853-6104083e6050",
   "metadata": {},
   "outputs": [],
   "source": []
  }
 ],
 "metadata": {
  "kernelspec": {
   "display_name": "Python 3 (ipykernel)",
   "language": "python",
   "name": "python3"
  },
  "language_info": {
   "codemirror_mode": {
    "name": "ipython",
    "version": 3
   },
   "file_extension": ".py",
   "mimetype": "text/x-python",
   "name": "python",
   "nbconvert_exporter": "python",
   "pygments_lexer": "ipython3",
   "version": "3.11.7"
  }
 },
 "nbformat": 4,
 "nbformat_minor": 5
}
