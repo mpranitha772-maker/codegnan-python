{
 "cells": [
  {
   "cell_type": "code",
   "execution_count": 5,
   "id": "a993b1c8-b814-497c-9992-12e2eef74bd4",
   "metadata": {},
   "outputs": [
    {
     "name": "stdin",
     "output_type": "stream",
     "text": [
      " 1\n"
     ]
    },
    {
     "name": "stdout",
     "output_type": "stream",
     "text": [
      "program done\n"
     ]
    }
   ],
   "source": [
    "#if condition\n",
    "n = int(input())\n",
    "if n == 0:\n",
    "    print(\"number is zero\")\n",
    "print(\"program done\")"
   ]
  },
  {
   "cell_type": "code",
   "execution_count": 4,
   "id": "4f35086a-9f86-4f7a-b247-5340b198ef93",
   "metadata": {},
   "outputs": [
    {
     "name": "stdin",
     "output_type": "stream",
     "text": [
      " 0\n"
     ]
    },
    {
     "name": "stdout",
     "output_type": "stream",
     "text": [
      "number is zero\n",
      "program done\n"
     ]
    }
   ],
   "source": [
    "n = int(input())\n",
    "if n == 0:\n",
    "    print(\"number is zero\")\n",
    "print(\"program done\")"
   ]
  },
  {
   "cell_type": "code",
   "execution_count": 6,
   "id": "2b818765-a815-4b4c-83e8-cef7b1b0cb35",
   "metadata": {},
   "outputs": [
    {
     "name": "stdin",
     "output_type": "stream",
     "text": [
      " 1\n"
     ]
    },
    {
     "name": "stdout",
     "output_type": "stream",
     "text": [
      "number is only zero\n"
     ]
    }
   ],
   "source": [
    "#if-else\n",
    "n = int(input())\n",
    "if n == 0:\n",
    "    print(\"number is zero\")\n",
    "else:\n",
    "    print(\"number is only zero\")"
   ]
  },
  {
   "cell_type": "code",
   "execution_count": 15,
   "id": "4582a375-0bf5-4b02-b433-22a75baae0ee",
   "metadata": {},
   "outputs": [
    {
     "name": "stdin",
     "output_type": "stream",
     "text": [
      " 5\n",
      " 10\n",
      " 3\n"
     ]
    },
    {
     "name": "stdout",
     "output_type": "stream",
     "text": [
      "total amount\n"
     ]
    }
   ],
   "source": [
    "available_product = int(input())\n",
    "cost = int(input())\n",
    "s_p = int(input())\n",
    "if available_product > s_p and available_product * cost <= cost:\n",
    "    print(\"remaining_amount\")\n",
    "else:\n",
    "    print(\"total amount\")\n",
    "    \n",
    "\n",
    "\n"
   ]
  },
  {
   "cell_type": "code",
   "execution_count": 12,
   "id": "59692960-4648-4200-a781-6f4545b9c2f2",
   "metadata": {},
   "outputs": [
    {
     "name": "stdin",
     "output_type": "stream",
     "text": [
      " 5\n",
      " 20\n",
      " 3\n"
     ]
    },
    {
     "name": "stdout",
     "output_type": "stream",
     "text": [
      "remaining_amount= 40\n"
     ]
    }
   ],
   "source": [
    "available_product = int(input())\n",
    "cost = int(input())\n",
    "s_p = int(input())\n",
    "\n",
    "if available_product > s_p:\n",
    "    remaining_amount = (available_product - s_p) * cost\n",
    "    print(\"remaining_amount=\", remaining_amount)\n",
    "else:\n",
    "    total_amount = s_p * cost\n",
    "    print(\"total_amount=\", total_amout)\n"
   ]
  },
  {
   "cell_type": "code",
   "execution_count": 19,
   "id": "6a968037-ba15-45f5-9d88-bbadf14b6ccd",
   "metadata": {},
   "outputs": [
    {
     "name": "stdin",
     "output_type": "stream",
     "text": [
      " 78925680\n"
     ]
    },
    {
     "name": "stdout",
     "output_type": "stream",
     "text": [
      "even\n"
     ]
    }
   ],
   "source": [
    "# to print even or odd\n",
    "n = int(input())\n",
    "if n%2 == 0:\n",
    "    print(\"even\")\n",
    "else:\n",
    "    print(\"odd\")"
   ]
  },
  {
   "cell_type": "code",
   "execution_count": 22,
   "id": "b12ddbd7-5d98-4500-8633-659d30216de8",
   "metadata": {},
   "outputs": [
    {
     "name": "stdin",
     "output_type": "stream",
     "text": [
      " 643218\n"
     ]
    },
    {
     "name": "stdout",
     "output_type": "stream",
     "text": [
      "odd\n"
     ]
    }
   ],
   "source": [
    "n = int(input())\n",
    "if n%2 == 1:\n",
    "    print(\"even\")\n",
    "else:\n",
    "    print(\"odd\")"
   ]
  },
  {
   "cell_type": "code",
   "execution_count": 31,
   "id": "dc30e9c2-8276-4117-82f7-a5f4446db10a",
   "metadata": {},
   "outputs": [
    {
     "name": "stdin",
     "output_type": "stream",
     "text": [
      " -8\n"
     ]
    },
    {
     "name": "stdout",
     "output_type": "stream",
     "text": [
      "negative\n"
     ]
    }
   ],
   "source": [
    "num = float(input())\n",
    "if n<0:\n",
    "    print(\"positive\")\n",
    "else:\n",
    "    print(\"negative\")"
   ]
  },
  {
   "cell_type": "code",
   "execution_count": null,
   "id": "5db7a7e3-05cb-420c-9da5-cb4d8023f6ce",
   "metadata": {},
   "outputs": [],
   "source": [
    "#zero pr non zero\n",
    "#print a number divisible by 3 and 5\n",
    "#divisible by 4 or 5\n",
    "#factor for 6 or not"
   ]
  },
  {
   "cell_type": "code",
   "execution_count": null,
   "id": "114c1e96-aba2-46ab-9783-aaae8f0731aa",
   "metadata": {},
   "outputs": [],
   "source": []
  }
 ],
 "metadata": {
  "kernelspec": {
   "display_name": "Python 3 (ipykernel)",
   "language": "python",
   "name": "python3"
  },
  "language_info": {
   "codemirror_mode": {
    "name": "ipython",
    "version": 3
   },
   "file_extension": ".py",
   "mimetype": "text/x-python",
   "name": "python",
   "nbconvert_exporter": "python",
   "pygments_lexer": "ipython3",
   "version": "3.11.7"
  }
 },
 "nbformat": 4,
 "nbformat_minor": 5
}
