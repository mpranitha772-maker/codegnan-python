{
 "cells": [
  {
   "cell_type": "code",
   "execution_count": null,
   "id": "3d204b97-23c1-4ebc-ad96-e61317942cad",
   "metadata": {},
   "outputs": [],
   "source": [
    "lst = [ 1, 2, 2, 3, 2, 1]\n",
    "for i in lst:\n",
    "    lst. remove(2)\n",
    "print(lst)\n",
    "    "
   ]
  },
  {
   "cell_type": "code",
   "execution_count": null,
   "id": "81ab4b81-7de6-4bd9-ade1-24de87bf8b59",
   "metadata": {},
   "outputs": [],
   "source": [
    "n = int(input())\n",
    "i = 1\n",
    "while i<n:\n",
    "    print(i)\n",
    "    i += 1\n",
    "else:\n",
    "    print(\"program done\")"
   ]
  },
  {
   "cell_type": "code",
   "execution_count": 2,
   "id": "09b62278-cea3-4b72-931a-a84a4bdac684",
   "metadata": {},
   "outputs": [
    {
     "name": "stdin",
     "output_type": "stream",
     "text": [
      " 6 9 3 6 8 2 6\n"
     ]
    },
    {
     "name": "stdout",
     "output_type": "stream",
     "text": [
      "2\n"
     ]
    }
   ],
   "source": [
    "numbers = list(map(int, input().split()))\n",
    "min_num = numbers[0]\n",
    "\n",
    "for num in numbers:\n",
    "    if num < min_num:\n",
    "        min_num = num\n",
    "\n",
    "print(min_num)\n"
   ]
  },
  {
   "cell_type": "code",
   "execution_count": 3,
   "id": "489a874a-366a-44c5-802e-6bac64b7cd0a",
   "metadata": {},
   "outputs": [
    {
     "name": "stdin",
     "output_type": "stream",
     "text": [
      " 87 67 54 97 69 98\n"
     ]
    },
    {
     "name": "stdout",
     "output_type": "stream",
     "text": [
      "98\n"
     ]
    }
   ],
   "source": [
    "numbers = list(map(int, input().split()))\n",
    "max_num = numbers[0]\n",
    "\n",
    "for num in numbers:\n",
    "    if num > max_num:\n",
    "        max_num = num\n",
    "\n",
    "print(max_num)\n"
   ]
  },
  {
   "cell_type": "code",
   "execution_count": 1,
   "id": "098ebab7-aec3-42aa-b29c-d335d6d3b988",
   "metadata": {},
   "outputs": [
    {
     "name": "stdin",
     "output_type": "stream",
     "text": [
      " 7 9 4 3\n"
     ]
    },
    {
     "name": "stdout",
     "output_type": "stream",
     "text": [
      "23\n"
     ]
    }
   ],
   "source": [
    "numbers = list(map(int, input().split()))\n",
    "sum = 0\n",
    "\n",
    "for num in numbers:\n",
    "    sum += num\n",
    "\n",
    "print(sum)\n"
   ]
  },
  {
   "cell_type": "code",
   "execution_count": 4,
   "id": "3ea90f0c-0199-4bbb-b014-c94e50dee14a",
   "metadata": {},
   "outputs": [
    {
     "name": "stdin",
     "output_type": "stream",
     "text": [
      " 8 4 9 2 7 1\n"
     ]
    },
    {
     "name": "stdout",
     "output_type": "stream",
     "text": [
      "4032\n"
     ]
    }
   ],
   "source": [
    "numbers = list(map(int, input().split()))\n",
    "product = 1\n",
    "\n",
    "for num in numbers:\n",
    "    product *= num\n",
    "\n",
    "print(product)\n"
   ]
  },
  {
   "cell_type": "code",
   "execution_count": null,
   "id": "8c809311-c1d2-43ee-833e-e56905f7580d",
   "metadata": {},
   "outputs": [],
   "source": []
  }
 ],
 "metadata": {
  "kernelspec": {
   "display_name": "Python 3 (ipykernel)",
   "language": "python",
   "name": "python3"
  },
  "language_info": {
   "codemirror_mode": {
    "name": "ipython",
    "version": 3
   },
   "file_extension": ".py",
   "mimetype": "text/x-python",
   "name": "python",
   "nbconvert_exporter": "python",
   "pygments_lexer": "ipython3",
   "version": "3.11.7"
  }
 },
 "nbformat": 4,
 "nbformat_minor": 5
}
