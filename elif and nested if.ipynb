{
 "cells": [
  {
   "cell_type": "code",
   "execution_count": 1,
   "id": "b34c303c-f4da-40f3-b349-01c9760ce077",
   "metadata": {},
   "outputs": [
    {
     "name": "stdin",
     "output_type": "stream",
     "text": [
      " 7654\n",
      " 96328\n",
      " 7653\n"
     ]
    },
    {
     "name": "stdout",
     "output_type": "stream",
     "text": [
      "96328 is the largest number\n"
     ]
    }
   ],
   "source": [
    "# Find the largest among three numbers using elif\n",
    "n1 = int(input())\n",
    "n2 = int(input())\n",
    "n3 = int(input())\n",
    "\n",
    "if n1 > n2 and n1 > n3:\n",
    "    print(f\"{n1} is the largest number\")\n",
    "elif n2 > n1 and n2 > n3:\n",
    "    print(f\"{n2} is the largest number\")\n",
    "else:\n",
    "    print(f\"{n3} is the largest number\")\n"
   ]
  },
  {
   "cell_type": "code",
   "execution_count": 2,
   "id": "c704905d-92b8-4d7f-90bc-1e27ee64a019",
   "metadata": {},
   "outputs": [
    {
     "name": "stdin",
     "output_type": "stream",
     "text": [
      " 876\n",
      " 98\n",
      " 879\n"
     ]
    },
    {
     "name": "stdout",
     "output_type": "stream",
     "text": [
      "879 is the largest number\n"
     ]
    }
   ],
   "source": [
    "# Find the largest among three numbers using nested if\n",
    "a = int(input())\n",
    "b = int(input())\n",
    "c = int(input())\n",
    "\n",
    "if a > b:\n",
    "    if a > c:\n",
    "        print(f\"{a} is the largest number\")\n",
    "    else:\n",
    "        print(f\"{c} is the largest number\")\n",
    "else:\n",
    "    if b > c:\n",
    "        print(f\"{b} is the largest number\")\n",
    "    else:\n",
    "        print(f\"{c} is the largest number\")\n"
   ]
  },
  {
   "cell_type": "code",
   "execution_count": 3,
   "id": "5aaf3ea2-f7c9-47ad-b894-b43433ba3bf3",
   "metadata": {},
   "outputs": [
    {
     "name": "stdin",
     "output_type": "stream",
     "text": [
      " 765\n"
     ]
    },
    {
     "name": "stdout",
     "output_type": "stream",
     "text": [
      "Total Bill Amount = ₹ 2660.0\n"
     ]
    }
   ],
   "source": [
    "units = int(input())\n",
    "\n",
    "if units <= 100:\n",
    "    amount = units * 1.5\n",
    "elif units <= 200:\n",
    "    amount = 100 * 1.5 + (units - 100) * 2.5\n",
    "else:\n",
    "    amount = 100 * 1.5 + 100 * 2.5 + (units - 200) * 4\n",
    "\n",
    "print(\"Total Bill Amount = ₹\", amount)\n"
   ]
  },
  {
   "cell_type": "code",
   "execution_count": 4,
   "id": "4743b7df-6f87-4249-9407-3641d2fb713f",
   "metadata": {},
   "outputs": [
    {
     "name": "stdin",
     "output_type": "stream",
     "text": [
      " 864\n"
     ]
    },
    {
     "name": "stdout",
     "output_type": "stream",
     "text": [
      "Electricity Bill: ₹ 3056.0\n"
     ]
    }
   ],
   "source": [
    "u = int(input())\n",
    "\n",
    "if u <= 100:\n",
    "    bill = u * 1.5\n",
    "else:\n",
    "    if u <= 200:\n",
    "        bill = 100 * 1.5 + (u - 100) * 2.5\n",
    "    else:\n",
    "        bill = 100 * 1.5 + 100 * 2.5 + (u - 200) * 4\n",
    "\n",
    "print(\"Electricity Bill: ₹\", bill)\n"
   ]
  },
  {
   "cell_type": "code",
   "execution_count": 6,
   "id": "ad9035a5-3d38-4ba0-80a0-5bdcbc227c03",
   "metadata": {},
   "outputs": [
    {
     "name": "stdin",
     "output_type": "stream",
     "text": [
      " 2024\n"
     ]
    },
    {
     "name": "stdout",
     "output_type": "stream",
     "text": [
      "Leap Year\n"
     ]
    }
   ],
   "source": [
    "#leap year or not\n",
    "year = int(input())\n",
    "\n",
    "if year % 400 == 0:\n",
    "    print(\"Leap Year\")\n",
    "elif year % 100 == 0:\n",
    "    print(\"Not a Leap Year\")\n",
    "elif year % 4 == 0:\n",
    "    print(\"Leap Year\")\n",
    "else:\n",
    "    print(\"Not a Leap Year\")\n"
   ]
  },
  {
   "cell_type": "code",
   "execution_count": 7,
   "id": "be037993-c7c1-4d0d-90a0-80acb34f2e7f",
   "metadata": {},
   "outputs": [
    {
     "name": "stdin",
     "output_type": "stream",
     "text": [
      " 2003\n"
     ]
    },
    {
     "name": "stdout",
     "output_type": "stream",
     "text": [
      "Not a Leap Year\n"
     ]
    }
   ],
   "source": [
    "y = int(input())\n",
    "\n",
    "if y % 4 == 0:\n",
    "    if y % 100 == 0:\n",
    "        if y % 400 == 0:\n",
    "            print(\"Leap Year\")\n",
    "        else:\n",
    "            print(\"Not a Leap Year\")\n",
    "    else:\n",
    "        print(\"Leap Year\")\n",
    "else:\n",
    "    print(\"Not a Leap Year\")\n"
   ]
  },
  {
   "cell_type": "code",
   "execution_count": 8,
   "id": "3995ce7f-86e7-47e8-ac2c-eef1dd700abf",
   "metadata": {},
   "outputs": [
    {
     "name": "stdin",
     "output_type": "stream",
     "text": [
      " 85\n",
      " 94\n",
      " 39\n"
     ]
    },
    {
     "name": "stdout",
     "output_type": "stream",
     "text": [
      "Pass\n"
     ]
    }
   ],
   "source": [
    "# students' marks in 3 subjects\n",
    "m1 = int(input())\n",
    "m2 = int(input())\n",
    "m3 = int(input())\n",
    "\n",
    "avg = (m1 + m2 + m3) / 3\n",
    "\n",
    "if avg >= 75:\n",
    "    print(\"Distinction\")\n",
    "elif avg >= 50:\n",
    "    print(\"Pass\")\n",
    "else:\n",
    "    print(\"Fail\")\n"
   ]
  },
  {
   "cell_type": "code",
   "execution_count": 10,
   "id": "351369f4-ea2c-4532-a085-4f6344cb4e58",
   "metadata": {},
   "outputs": [
    {
     "name": "stdin",
     "output_type": "stream",
     "text": [
      " 87\n",
      " 97\n",
      " 65\n"
     ]
    },
    {
     "name": "stdout",
     "output_type": "stream",
     "text": [
      "Distinction\n"
     ]
    }
   ],
   "source": [
    "a = int(input())\n",
    "b = int(input())\n",
    "c = int(input())\n",
    "\n",
    "average = (a + b + c) / 3\n",
    "\n",
    "if average >= 50:\n",
    "    if average >= 75:\n",
    "        print(\"Distinction\")\n",
    "    else:\n",
    "        print(\"Pass\")\n",
    "else:\n",
    "    print(\"Fail\")\n"
   ]
  },
  {
   "cell_type": "code",
   "execution_count": 11,
   "id": "f34b0be7-28bf-4ddc-a147-2d59bcb0cc7f",
   "metadata": {},
   "outputs": [
    {
     "name": "stdin",
     "output_type": "stream",
     "text": [
      " 16\n",
      " 15\n",
      " 17\n"
     ]
    },
    {
     "name": "stdout",
     "output_type": "stream",
     "text": [
      "n1 is even\n",
      "odd\n",
      "odd\n"
     ]
    }
   ],
   "source": [
    "n1 = int(input())\n",
    "n2 = int(input())\n",
    "n3 = int(input())\n",
    "if n1 % 2 == 0:\n",
    "    print(\"n1 is even\")\n",
    "else:\n",
    "    print(\"odd\")\n",
    "if n2 % 2 == 0:\n",
    "    print(\"n2 is even\")\n",
    "else:\n",
    "    print(\"odd\")\n",
    "if n3 % 2 == 0:\n",
    "    print(\"n3 is even\")\n",
    "else:\n",
    "    print(\"odd\")\n"
   ]
  },
  {
   "cell_type": "code",
   "execution_count": 17,
   "id": "54335df6-0a79-44f0-9a36-ac98215bda5e",
   "metadata": {},
   "outputs": [
    {
     "name": "stdin",
     "output_type": "stream",
     "text": [
      " 10\n"
     ]
    },
    {
     "name": "stdout",
     "output_type": "stream",
     "text": [
      "1 2 3 4 5 6 7 8 9 10 "
     ]
    }
   ],
   "source": [
    "num = int(input())\n",
    "for num in range(1,11):\n",
    "    print(num, end = \" \" )\n",
    "\n",
    "\n"
   ]
  },
  {
   "cell_type": "code",
   "execution_count": 18,
   "id": "7fd596a0-a567-4ca5-a75e-f4f0d63f2e28",
   "metadata": {},
   "outputs": [
    {
     "name": "stdin",
     "output_type": "stream",
     "text": [
      " 10\n"
     ]
    },
    {
     "name": "stdout",
     "output_type": "stream",
     "text": [
      "1 2 3 4 5 6 7 8 9 10 program done\n"
     ]
    }
   ],
   "source": [
    "num = int(input())\n",
    "for num in range(1,11):\n",
    "    print(num, end = \" \" )\n",
    "else:\n",
    "    print(\"program done\")"
   ]
  },
  {
   "cell_type": "code",
   "execution_count": 24,
   "id": "d09d887f-43da-457b-8517-aeca591a6c1e",
   "metadata": {},
   "outputs": [
    {
     "name": "stdin",
     "output_type": "stream",
     "text": [
      " 100\n"
     ]
    },
    {
     "name": "stdout",
     "output_type": "stream",
     "text": [
      "0 2 4 6 8 10 12 14 16 18 20 22 24 26 28 30 32 34 36 38 40 42 44 46 48 50 52 54 56 58 60 62 64 66 68 70 72 74 76 78 80 82 84 86 88 90 92 94 96 98 100 "
     ]
    }
   ],
   "source": [
    "num = int(input())\n",
    "for num in range(101):\n",
    "    if num % 2 == 0:\n",
    "        print(num, end=\" \")\n",
    "    "
   ]
  },
  {
   "cell_type": "code",
   "execution_count": 25,
   "id": "bb6aa56b-033d-44ad-87f9-14d4d22a7807",
   "metadata": {},
   "outputs": [
    {
     "name": "stdin",
     "output_type": "stream",
     "text": [
      " 100\n"
     ]
    },
    {
     "name": "stdout",
     "output_type": "stream",
     "text": [
      "1 3 5 7 9 11 13 15 17 19 21 23 25 27 29 31 33 35 37 39 41 43 45 47 49 51 53 55 57 59 61 63 65 67 69 71 73 75 77 79 81 83 85 87 89 91 93 95 97 99 "
     ]
    }
   ],
   "source": [
    "num = int(input())\n",
    "for num in range(101):\n",
    "    if num % 2 == 1:\n",
    "        print(num, end=\" \")"
   ]
  },
  {
   "cell_type": "code",
   "execution_count": 32,
   "id": "d4beea7f-1135-4429-b5a3-5cdf589d4b80",
   "metadata": {},
   "outputs": [
    {
     "name": "stdin",
     "output_type": "stream",
     "text": [
      " 5\n"
     ]
    },
    {
     "name": "stdout",
     "output_type": "stream",
     "text": [
      "5 x 1 = 5\n",
      "5 x 2 = 10\n",
      "5 x 3 = 15\n",
      "5 x 4 = 20\n",
      "5 x 5 = 25\n",
      "5 x 6 = 30\n",
      "5 x 7 = 35\n",
      "5 x 8 = 40\n",
      "5 x 9 = 45\n",
      "5 x 10 = 50\n"
     ]
    }
   ],
   "source": [
    "#tables\n",
    "num = int(input())\n",
    "for i in range(1, 11):\n",
    "    print(f\"{num} x {i} = {num * i}\")\n"
   ]
  },
  {
   "cell_type": "code",
   "execution_count": 48,
   "id": "376cf863-6ab1-4f57-8526-2e5ce232225d",
   "metadata": {},
   "outputs": [
    {
     "name": "stdin",
     "output_type": "stream",
     "text": [
      " 5 3 2 4 8 7\n"
     ]
    },
    {
     "ename": "TypeError",
     "evalue": "not all arguments converted during string formatting",
     "output_type": "error",
     "traceback": [
      "\u001b[1;31m---------------------------------------------------------------------------\u001b[0m",
      "\u001b[1;31mTypeError\u001b[0m                                 Traceback (most recent call last)",
      "Cell \u001b[1;32mIn[48], line 5\u001b[0m\n\u001b[0;32m      3\u001b[0m \u001b[38;5;28;01mfor\u001b[39;00m i \u001b[38;5;129;01min\u001b[39;00m \u001b[38;5;28mrange\u001b[39m(\u001b[38;5;28mlen\u001b[39m(lst)):\n\u001b[0;32m      4\u001b[0m     n \u001b[38;5;241m=\u001b[39m \u001b[38;5;28mint\u001b[39m(lst[i])\n\u001b[1;32m----> 5\u001b[0m     \u001b[38;5;28;01mif\u001b[39;00m lst[i]\u001b[38;5;241m%\u001b[39m\u001b[38;5;241m2\u001b[39m\u001b[38;5;241m==\u001b[39m\u001b[38;5;241m0\u001b[39m:\n\u001b[0;32m      6\u001b[0m         result\u001b[38;5;241m.\u001b[39m append(n)\n\u001b[0;32m      7\u001b[0m \u001b[38;5;28mprint\u001b[39m(result)\n",
      "\u001b[1;31mTypeError\u001b[0m: not all arguments converted during string formatting"
     ]
    }
   ],
   "source": [
    "lst = input().split()\n",
    "result = []\n",
    "for i in range(len(lst)):\n",
    "    n = int(lst[i])\n",
    "    if lst[i]%2==0:\n",
    "        result. append(n)\n",
    "print(result)\n",
    "        "
   ]
  },
  {
   "cell_type": "code",
   "execution_count": 44,
   "id": "17a5e4a4-7c2c-4719-bb31-8cb2dcd972b5",
   "metadata": {},
   "outputs": [
    {
     "name": "stdin",
     "output_type": "stream",
     "text": [
      " 3 4 7 2 8 5\n"
     ]
    },
    {
     "name": "stdout",
     "output_type": "stream",
     "text": [
      "Even numbers: [4, 2, 8]\n"
     ]
    }
   ],
   "source": [
    "lst = list(map(int, input().split()))\n",
    "result = []\n",
    "\n",
    "for i in range(len(lst)):\n",
    "    if lst[i] % 2 == 0:\n",
    "        result.append(lst[i])\n",
    "\n",
    "print(\"Even numbers:\", result)\n"
   ]
  },
  {
   "cell_type": "code",
   "execution_count": null,
   "id": "4cca4ffb-56ff-4504-88ee-140a6d0ac003",
   "metadata": {},
   "outputs": [],
   "source": []
  }
 ],
 "metadata": {
  "kernelspec": {
   "display_name": "Python 3 (ipykernel)",
   "language": "python",
   "name": "python3"
  },
  "language_info": {
   "codemirror_mode": {
    "name": "ipython",
    "version": 3
   },
   "file_extension": ".py",
   "mimetype": "text/x-python",
   "name": "python",
   "nbconvert_exporter": "python",
   "pygments_lexer": "ipython3",
   "version": "3.11.7"
  }
 },
 "nbformat": 4,
 "nbformat_minor": 5
}
