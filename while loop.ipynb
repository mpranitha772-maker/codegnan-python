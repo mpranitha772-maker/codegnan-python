{
 "cells": [
  {
   "cell_type": "code",
   "execution_count": null,
   "id": "3d204b97-23c1-4ebc-ad96-e61317942cad",
   "metadata": {},
   "outputs": [],
   "source": [
    "lst = [ 1, 2, 2, 3, 2, 1]\n",
    "for i in lst:\n",
    "    lst. remove(2)\n",
    "print(lst)\n",
    "    "
   ]
  },
  {
   "cell_type": "code",
   "execution_count": null,
   "id": "81ab4b81-7de6-4bd9-ade1-24de87bf8b59",
   "metadata": {},
   "outputs": [],
   "source": [
    "n = int(input())\n",
    "i = 1\n",
    "while i<n:\n",
    "    print(i)\n",
    "    i += 1\n",
    "else:\n",
    "    print(\"program done\")"
   ]
  }
 ],
 "metadata": {
  "kernelspec": {
   "display_name": "Python 3 (ipykernel)",
   "language": "python",
   "name": "python3"
  },
  "language_info": {
   "codemirror_mode": {
    "name": "ipython",
    "version": 3
   },
   "file_extension": ".py",
   "mimetype": "text/x-python",
   "name": "python",
   "nbconvert_exporter": "python",
   "pygments_lexer": "ipython3",
   "version": "3.11.7"
  }
 },
 "nbformat": 4,
 "nbformat_minor": 5
}
