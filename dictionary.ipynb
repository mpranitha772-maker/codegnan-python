{
 "cells": [
  {
   "cell_type": "code",
   "execution_count": 5,
   "id": "9cabbb4d-9061-43a2-bc0f-4c0fbf20c675",
   "metadata": {},
   "outputs": [
    {
     "name": "stdout",
     "output_type": "stream",
     "text": [
      "{1: 'z', 2: 'b', 3: 'c', 4: 'd', 5: 'e'}\n"
     ]
    }
   ],
   "source": [
    "#duplicate \n",
    "d = {1:'a', 2:'b',3:'c',4:'d',5:'e',1:'z'}\n",
    "print(d)"
   ]
  },
  {
   "cell_type": "code",
   "execution_count": 11,
   "id": "154d5e89-a69a-437b-83b0-c8d58d58883c",
   "metadata": {},
   "outputs": [
    {
     "name": "stdout",
     "output_type": "stream",
     "text": [
      "{'A': 1, 1: 'z', 'hi': 5, 'hello': 8, 2: 'b', 3: 'c', 4: 'd', 5: 'e'}\n"
     ]
    }
   ],
   "source": [
    "#dictionary representation\n",
    "d = {'A':1, 1:'A', 'hi':5, 'hello':8, 2:'b',3:'c',4:'d',5:'e',1:'z'}\n",
    "print(d)"
   ]
  },
  {
   "cell_type": "code",
   "execution_count": 23,
   "id": "37882ffe-eab3-4e0c-b206-dd6f9e1b4209",
   "metadata": {},
   "outputs": [
    {
     "name": "stdout",
     "output_type": "stream",
     "text": [
      "z\n",
      "1\n"
     ]
    }
   ],
   "source": [
    "d = {'A':1,1:'A','hi':5, 'hello':8, 2:'b',3:'c', 4:'d',5:'e',   1:'z'}\n",
    "print(d[1])\n",
    "print(d['A'])\n",
    "d['1'] = 'z'"
   ]
  },
  {
   "cell_type": "code",
   "execution_count": 22,
   "id": "4f7a597c-e503-4c1b-aad5-f5b212c9197e",
   "metadata": {},
   "outputs": [
    {
     "name": "stdout",
     "output_type": "stream",
     "text": [
      "type[{}] type[{}]\n"
     ]
    }
   ],
   "source": [
    "#empty dictionary\n",
    "d1 = {}\n",
    "d2 = dict()\n",
    "print(type[d1], type[d2])\n"
   ]
  },
  {
   "cell_type": "code",
   "execution_count": null,
   "id": "c96d3c9c-6a2c-4c74-9339-9d3f1f4a64d6",
   "metadata": {},
   "outputs": [],
   "source": [
    "#dictionary methods\n",
    "# get - key, default \n",
    "#update\n",
    "#pop()\n",
    "#keys\n",
    "#values\n",
    "#popitems\n",
    "#clear-it clear all items from the dictionary\n"
   ]
  },
  {
   "cell_type": "code",
   "execution_count": 39,
   "id": "e243a6e2-821a-4230-b101-16b6a3353ec5",
   "metadata": {},
   "outputs": [
    {
     "name": "stdout",
     "output_type": "stream",
     "text": [
      "z\n",
      "b 0\n",
      "e 3\n",
      "None\n",
      "z\n",
      "None\n"
     ]
    }
   ],
   "source": [
    "d = {'A':1,1:'A','hi':5, 'hello':8, 2:'b',3:'c', 4:'d',5:'e',   1:'z'}\n",
    "print(d.get(1))\n",
    "print(d.get(2), 0)\n",
    "print(d.get(5), 3)\n",
    "print(d.update())\n",
    "print(d.pop(1))\n",
    "print(d.clear())"
   ]
  },
  {
   "cell_type": "code",
   "execution_count": 43,
   "id": "651a6d4b-37f5-43dc-ac61-9ff671a82d7c",
   "metadata": {},
   "outputs": [
    {
     "ename": "TypeError",
     "evalue": "tuple expected at most 1 argument, got 3",
     "output_type": "error",
     "traceback": [
      "\u001b[1;31m---------------------------------------------------------------------------\u001b[0m",
      "\u001b[1;31mTypeError\u001b[0m                                 Traceback (most recent call last)",
      "Cell \u001b[1;32mIn[43], line 1\u001b[0m\n\u001b[1;32m----> 1\u001b[0m t \u001b[38;5;241m=\u001b[39m \u001b[38;5;28mtuple\u001b[39m(\u001b[38;5;241m10\u001b[39m, \u001b[38;5;241m20\u001b[39m, [\u001b[38;5;241m1\u001b[39m, \u001b[38;5;241m2\u001b[39m, \u001b[38;5;241m3\u001b[39m])\n\u001b[0;32m      2\u001b[0m t\u001b[38;5;241m.\u001b[39mappend(t[\u001b[38;5;241m1\u001b[39m])\n\u001b[0;32m      3\u001b[0m \u001b[38;5;28mprint\u001b[39m(t[\u001b[38;5;241m1\u001b[39m])\n",
      "\u001b[1;31mTypeError\u001b[0m: tuple expected at most 1 argument, got 3"
     ]
    }
   ],
   "source": [
    "t = tuple(10, 20, [1, 2, 3])\n",
    "t.append(t[1])\n",
    "print(t[1])"
   ]
  },
  {
   "cell_type": "code",
   "execution_count": null,
   "id": "4cafdd15-68fb-488e-bf50-2ec370277acc",
   "metadata": {},
   "outputs": [],
   "source": []
  }
 ],
 "metadata": {
  "kernelspec": {
   "display_name": "Python 3 (ipykernel)",
   "language": "python",
   "name": "python3"
  },
  "language_info": {
   "codemirror_mode": {
    "name": "ipython",
    "version": 3
   },
   "file_extension": ".py",
   "mimetype": "text/x-python",
   "name": "python",
   "nbconvert_exporter": "python",
   "pygments_lexer": "ipython3",
   "version": "3.11.7"
  }
 },
 "nbformat": 4,
 "nbformat_minor": 5
}
