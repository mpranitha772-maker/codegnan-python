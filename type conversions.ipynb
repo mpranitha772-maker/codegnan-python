{
 "cells": [
  {
   "cell_type": "code",
   "execution_count": 1,
   "id": "2fe3ab3b-5a2f-41cd-abf1-684be0707853",
   "metadata": {},
   "outputs": [
    {
     "name": "stdin",
     "output_type": "stream",
     "text": [
      " 10\n"
     ]
    },
    {
     "name": "stdout",
     "output_type": "stream",
     "text": [
      "10\n",
      "10.0\n",
      "True\n",
      "string type number: 10\n"
     ]
    }
   ],
   "source": [
    "#type conversions\n",
    "#integer to float string boolean\n",
    "num = int(input())\n",
    "print(num)\n",
    "val = float(num)\n",
    "print(val)\n",
    "print(bool(num))\n",
    "print(\"string type number:\", str(num))"
   ]
  },
  {
   "cell_type": "code",
   "execution_count": 4,
   "id": "4e87c112-fe4d-4b36-8385-bf8a439f674b",
   "metadata": {},
   "outputs": [
    {
     "name": "stdin",
     "output_type": "stream",
     "text": [
      " 10.235\n"
     ]
    },
    {
     "name": "stdout",
     "output_type": "stream",
     "text": [
      "10.235\n",
      "integer conv: 10\n",
      "string conv: 10.235\n",
      "bool conv: True\n"
     ]
    }
   ],
   "source": [
    "#float to integer string boolean\n",
    "val = float(input())\n",
    "print(val)\n",
    "print(\"integer conv:\", int(val))\n",
    "print(\"string conv:\", str(val))\n",
    "print(\"bool conv:\", bool(val))"
   ]
  },
  {
   "cell_type": "code",
   "execution_count": 8,
   "id": "217cc5f3-59cd-4afc-9b93-c3dcce212a72",
   "metadata": {},
   "outputs": [
    {
     "name": "stdin",
     "output_type": "stream",
     "text": [
      " 1052\n"
     ]
    },
    {
     "name": "stdout",
     "output_type": "stream",
     "text": [
      "integer conv: 1052\n",
      "float conv: 1052.0\n",
      "bool conv: True\n",
      "list conv: ['1', '0', '5', '2']\n",
      "tuple conv: ('1', '0', '5', '2')\n",
      "set conv: {'0', '2', '5', '1'}\n"
     ]
    }
   ],
   "source": [
    "#string conversion to integer float boolean list tuple and set\n",
    "string = input()\n",
    "print(\"integer conv:\", int(string))\n",
    "print(\"float conv:\", float(string))\n",
    "print(\"bool conv:\", bool(string))\n",
    "print(\"list conv:\", list(string))\n",
    "print(\"tuple conv:\", tuple(string))\n",
    "print(\"set conv:\", set(string))"
   ]
  },
  {
   "cell_type": "code",
   "execution_count": null,
   "id": "a12dd46d-5b4d-4504-a8f9-b7581150aeed",
   "metadata": {},
   "outputs": [],
   "source": [
    "#list to string, tuple, and set\n",
    "list_nums = list(map(int, input().split()))\n",
    "print(list_nums)\n"
   ]
  }
 ],
 "metadata": {
  "kernelspec": {
   "display_name": "Python 3 (ipykernel)",
   "language": "python",
   "name": "python3"
  },
  "language_info": {
   "codemirror_mode": {
    "name": "ipython",
    "version": 3
   },
   "file_extension": ".py",
   "mimetype": "text/x-python",
   "name": "python",
   "nbconvert_exporter": "python",
   "pygments_lexer": "ipython3",
   "version": "3.11.7"
  }
 },
 "nbformat": 4,
 "nbformat_minor": 5
}
