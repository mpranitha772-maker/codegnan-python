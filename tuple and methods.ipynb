{
 "cells": [
  {
   "cell_type": "code",
   "execution_count": 32,
   "id": "02c33a3c-9da4-46dc-9edd-a238b769a436",
   "metadata": {},
   "outputs": [
    {
     "name": "stdin",
     "output_type": "stream",
     "text": [
      " 1 2 3 4\n",
      " 1 2 3 4\n"
     ]
    },
    {
     "name": "stdout",
     "output_type": "stream",
     "text": [
      "('1', '2', '3', '4')\n"
     ]
    }
   ],
   "source": [
    "t = tuple(map(int, input().split()))\n",
    "t = tuple(map(str, input().split()))\n",
    "print(t)"
   ]
  },
  {
   "cell_type": "code",
   "execution_count": 16,
   "id": "24785658-cb3f-4b8f-bb00-5085826822b6",
   "metadata": {},
   "outputs": [
    {
     "name": "stdout",
     "output_type": "stream",
     "text": [
      "[30, 40, 60] Codegnan 30 Codegnan\n",
      "(1, 2, 30, [30, 40, 60]) (1, 2) (1, 2, 30, [30, 40, 60])\n"
     ]
    }
   ],
   "source": [
    "T = (1, 2, 30, [30, 40, 60], \"Codegnan\")\n",
    "\n",
    "print(T[3], T[-1], T[-3], T[4])\n",
    "print(T[:-1], T[:-3], T[:4])"
   ]
  },
  {
   "cell_type": "code",
   "execution_count": 21,
   "id": "ea32fada-dee3-4f53-b316-671a05fbc39a",
   "metadata": {},
   "outputs": [
    {
     "name": "stdout",
     "output_type": "stream",
     "text": [
      "6\n"
     ]
    }
   ],
   "source": [
    "# single element representation\n",
    "t = (6)\n",
    "print(t)"
   ]
  },
  {
   "cell_type": "code",
   "execution_count": 22,
   "id": "0b95d260-0fb5-4b9d-9b65-6703f1b9c182",
   "metadata": {},
   "outputs": [
    {
     "name": "stdout",
     "output_type": "stream",
     "text": [
      "(1, 2, 4, 5, 7, 8, 9)\n"
     ]
    }
   ],
   "source": [
    "#tuple operation\n",
    "# concatenation\n",
    "t1 = tuple([1, 2, 4])\n",
    "t2 = tuple([5, 7, 8, 9])\n",
    "t3 = t1+t2\n",
    "print(t3)"
   ]
  },
  {
   "cell_type": "code",
   "execution_count": 26,
   "id": "6bf3f0eb-6842-4355-af28-7059603646c9",
   "metadata": {},
   "outputs": [
    {
     "name": "stdout",
     "output_type": "stream",
     "text": [
      "2\n",
      "1\n"
     ]
    }
   ],
   "source": [
    "t = ([1, 2, 3, 4])\n",
    "\n",
    "# index of a value\n",
    "print(t.index(3))  # gives index of element 2\n",
    "\n",
    "# count how many times 2 appears\n",
    "print(t.count(3))  # counts occurrences of 2\n"
   ]
  },
  {
   "cell_type": "code",
   "execution_count": 27,
   "id": "f2149776-f4bc-411f-8566-1517a413919c",
   "metadata": {},
   "outputs": [
    {
     "name": "stdout",
     "output_type": "stream",
     "text": [
      "4 1 4 10\n"
     ]
    }
   ],
   "source": [
    "# built-in functions\n",
    "#length, min max\n",
    "t= ([1, 2, 3, 4])\n",
    "print(len(t), min(t), max(t), sum(t))\n"
   ]
  },
  {
   "cell_type": "code",
   "execution_count": 31,
   "id": "d086d060-c84d-4896-9d16-7fdaefb95c78",
   "metadata": {},
   "outputs": [
    {
     "name": "stdout",
     "output_type": "stream",
     "text": [
      "['C', 'o', 'd', 'e', 'g', 'n', 'a', 'n']\n",
      "('C', 'o', 'd', 'e', 'g', 'n', 'a', 'n')\n",
      "[1, 2, 3, 4]\n"
     ]
    }
   ],
   "source": [
    "s = \"Codegnan\"\n",
    "print(list(s))\n",
    "print(tuple(s))\n",
    "#tuple to list conversion\n",
    "t = ([1, 2, 3, 4])\n",
    "print(list(t))\n"
   ]
  }
 ],
 "metadata": {
  "kernelspec": {
   "display_name": "Python 3 (ipykernel)",
   "language": "python",
   "name": "python3"
  },
  "language_info": {
   "codemirror_mode": {
    "name": "ipython",
    "version": 3
   },
   "file_extension": ".py",
   "mimetype": "text/x-python",
   "name": "python",
   "nbconvert_exporter": "python",
   "pygments_lexer": "ipython3",
   "version": "3.11.7"
  }
 },
 "nbformat": 4,
 "nbformat_minor": 5
}
