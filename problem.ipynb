{
 "cells": [
  {
   "cell_type": "code",
   "execution_count": 9,
   "id": "d7f6b59f-b912-4d7e-bc08-006dd23b6f0b",
   "metadata": {},
   "outputs": [
    {
     "name": "stdin",
     "output_type": "stream",
     "text": [
      " -45\n"
     ]
    },
    {
     "name": "stdout",
     "output_type": "stream",
     "text": [
      "negative odd\n"
     ]
    }
   ],
   "source": [
    "#positive even or odd and negative even or odd\n",
    "n = int(input())\n",
    "if n%2 == 0 and n>0:\n",
    "    print(\"positive even\")\n",
    "elif n%2==1 and n>0:\n",
    "    print(\"positive odd\")\n",
    "elif n%2==0 and n<0:\n",
    "    print(\"negative even\")\n",
    "elif n%2==1 and n<0:\n",
    "    print(\"negative odd\")\n",
    "else:\n",
    "    print(\" number is zero\")"
   ]
  },
  {
   "cell_type": "code",
   "execution_count": 9,
   "id": "4aa11c18-7094-4be0-8fb6-935cea87b8f8",
   "metadata": {},
   "outputs": [
    {
     "name": "stdin",
     "output_type": "stream",
     "text": [
      " 65\n",
      " 34\n",
      " 54\n"
     ]
    },
    {
     "name": "stdout",
     "output_type": "stream",
     "text": [
      "65 is big\n"
     ]
    }
   ],
   "source": [
    "n1 = int(input())\n",
    "n2 = int(input())\n",
    "n3 = int(input())\n",
    "if n1>n2 and n1>n3:\n",
    "    print(f\"{n1} is big\")\n",
    "elif n2 >n1 and n2>n3:\n",
    "    print(f\"{n2} is big\")\n",
    "else:\n",
    "    print(f\"{n3} is big\")"
   ]
  },
  {
   "cell_type": "code",
   "execution_count": 7,
   "id": "437342dc-a3d3-49f8-9bf2-77989536606a",
   "metadata": {},
   "outputs": [
    {
     "name": "stdin",
     "output_type": "stream",
     "text": [
      " 4\n"
     ]
    },
    {
     "name": "stdout",
     "output_type": "stream",
     "text": [
      "number is present\n"
     ]
    }
   ],
   "source": [
    "#whether the element is present in the list or not\n",
    "number = [2, 6, 8, 9, 4]\n",
    "num = int(input())\n",
    "if num in number:\n",
    "    print(\"number is present\")\n",
    "else:\n",
    "    print(\"number is not present\")"
   ]
  },
  {
   "cell_type": "code",
   "execution_count": 18,
   "id": "20c7631a-e220-4081-8c1f-2cb5d3231605",
   "metadata": {},
   "outputs": [
    {
     "name": "stdin",
     "output_type": "stream",
     "text": [
      " 7654\n"
     ]
    },
    {
     "name": "stdout",
     "output_type": "stream",
     "text": [
      "Total bill = 30066.0\n"
     ]
    }
   ],
   "source": [
    "#electricity bill calculator\n",
    "units = int(input())\n",
    "if units<=100:\n",
    "    bill = units*1.5\n",
    "elif 100<units<=300:\n",
    "    bill = (100*1.5) + (units-100)*2.5\n",
    "else:\n",
    "    bill = (100*1.5) + (200*2.5) + (units - 300) *4\n",
    "print(\"Total bill =\", bill)\n",
    "    \n",
    "\n"
   ]
  },
  {
   "cell_type": "code",
   "execution_count": null,
   "id": "faf139c1-9fa5-46e3-93af-908cd3895828",
   "metadata": {},
   "outputs": [],
   "source": []
  }
 ],
 "metadata": {
  "kernelspec": {
   "display_name": "Python 3 (ipykernel)",
   "language": "python",
   "name": "python3"
  },
  "language_info": {
   "codemirror_mode": {
    "name": "ipython",
    "version": 3
   },
   "file_extension": ".py",
   "mimetype": "text/x-python",
   "name": "python",
   "nbconvert_exporter": "python",
   "pygments_lexer": "ipython3",
   "version": "3.11.7"
  }
 },
 "nbformat": 4,
 "nbformat_minor": 5
}
