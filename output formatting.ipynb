{
 "cells": [
  {
   "cell_type": "code",
   "execution_count": 1,
   "id": "13d88ddc-209b-46a0-8e8c-64a204a9f705",
   "metadata": {},
   "outputs": [
    {
     "name": "stdout",
     "output_type": "stream",
     "text": [
      "name is Ravi and age is 20\n"
     ]
    }
   ],
   "source": [
    "#output formatting, old style string format \n",
    "name = \"Ravi\"\n",
    "age = 20\n",
    "print(\"name is\", name, \"and age is\", age)"
   ]
  },
  {
   "cell_type": "code",
   "execution_count": 5,
   "id": "ec0efdc9-6746-40b8-827b-3153d0141a72",
   "metadata": {},
   "outputs": [
    {
     "name": "stdout",
     "output_type": "stream",
     "text": [
      "name is Ravi and age is 20\n"
     ]
    }
   ],
   "source": [
    "# moodulo operator output formatting\n",
    "#%d integer\n",
    "#%f float\n",
    "#%s string\n",
    "name = \"Ravi\"\n",
    "age = 20\n",
    "print(\"name is %s and age is %d\" % (name, age))"
   ]
  },
  {
   "cell_type": "code",
   "execution_count": 16,
   "id": "917a17ab-972b-402a-a20d-7adcd17dc27a",
   "metadata": {},
   "outputs": [
    {
     "name": "stdout",
     "output_type": "stream",
     "text": [
      "name is Pranitha Reddy and age is 22\n",
      "name is 22 and age is Pranitha Reddy\n",
      "name is Pranitha Reddy and age is 24\n"
     ]
    }
   ],
   "source": [
    "#dot method\n",
    "name = \"Pranitha Reddy\"\n",
    "age = 22\n",
    "print(\"name is {} and age is {}\".format(name, age))\n",
    "print(\"name is {} and age is {}\".format(age, name))\n",
    "print(\"name is {} and age is {}\".format(name, age+2))"
   ]
  },
  {
   "cell_type": "code",
   "execution_count": 30,
   "id": "98776afe-6b09-4320-a42c-f26331d04c97",
   "metadata": {},
   "outputs": [
    {
     "name": "stdout",
     "output_type": "stream",
     "text": [
      "name is Pranitha Reddy and age is 22 and i have 10.253\n",
      "name is Pranitha Reddy and age is 22 and i have 10.25\n"
     ]
    }
   ],
   "source": [
    "# f format\n",
    "name = \"Pranitha Reddy\"\n",
    "age = 22\n",
    "percentage = 10.253\n",
    "print(f\"name is {name} and age is {age} and i have {percentage}\")\n",
    "print(f\"name is {name} and age is {age} and i have {percentage:.2f}\")\n"
   ]
  },
  {
   "cell_type": "code",
   "execution_count": null,
   "id": "018101be-0e9d-4419-9f4d-c136b410c89c",
   "metadata": {},
   "outputs": [],
   "source": []
  }
 ],
 "metadata": {
  "kernelspec": {
   "display_name": "Python 3 (ipykernel)",
   "language": "python",
   "name": "python3"
  },
  "language_info": {
   "codemirror_mode": {
    "name": "ipython",
    "version": 3
   },
   "file_extension": ".py",
   "mimetype": "text/x-python",
   "name": "python",
   "nbconvert_exporter": "python",
   "pygments_lexer": "ipython3",
   "version": "3.11.7"
  }
 },
 "nbformat": 4,
 "nbformat_minor": 5
}
